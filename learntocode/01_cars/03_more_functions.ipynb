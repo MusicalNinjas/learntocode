{
 "cells": [
  {
   "cell_type": "markdown",
   "metadata": {},
   "source": [
    "# What if Grandma & Grandad tell you how fast it is ...\n",
    "\n",
    "**Great work!** getting the first function to work.\n",
    "\n",
    "- *Functions* can take more than one *argument*\n",
    "- `int`iger numbers have nothing after the point, they are easiest to use\n",
    "- `float`ing point numbers can have something after the dot - but can be a bit of a pain with `==`"
   ]
  },
  {
   "cell_type": "markdown",
   "metadata": {},
   "source": [
    "> ### Challenge\n",
    "\n",
    "- Can you get the next function to work as well?"
   ]
  },
  {
   "cell_type": "code",
   "execution_count": null,
   "metadata": {},
   "outputs": [],
   "source": [
    "%%ipytest\n",
    "\n",
    "\n",
    "def distance_driven(speed_in_kph: float, hours: float) -> float:\n",
    "    \"\"\"Takes speed in kph and hours drive, returns the distance driven.\"\"\"\n",
    "    return speed_in_kph * hours\n",
    "\n",
    "def test_chiron():\n",
    "    assert distance_driven(speed_in_kph=420, hours=2) == 840\n",
    "\n",
    "def test_veyron():\n",
    "    assert distance_driven(speed_in_kph=408, hours=3) == 1224"
   ]
  },
  {
   "cell_type": "code",
   "execution_count": null,
   "metadata": {},
   "outputs": [],
   "source": []
  }
 ],
 "metadata": {
  "kernelspec": {
   "display_name": ".venv",
   "language": "python",
   "name": "python3"
  },
  "language_info": {
   "codemirror_mode": {
    "name": "ipython",
    "version": 3
   },
   "file_extension": ".py",
   "mimetype": "text/x-python",
   "name": "python",
   "nbconvert_exporter": "python",
   "pygments_lexer": "ipython3",
   "version": "3.13.2"
  }
 },
 "nbformat": 4,
 "nbformat_minor": 2
}
