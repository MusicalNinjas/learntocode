{
 "cells": [
  {
   "cell_type": "markdown",
   "metadata": {},
   "source": [
    "# Loops\n",
    "\n",
    "Often you want to do the same thing lots of times, computers use loops `for` this.\n",
    "\n",
    "> **How it works**\n",
    "> 1. put all the values `[inside, a, list]`\n",
    "> 1. do something `for` (each) `value in list`"
   ]
  },
  {
   "cell_type": "markdown",
   "metadata": {},
   "source": [
    "> **Python super-power**\n",
    "> You can make a new list like this:"
   ]
  },
  {
   "cell_type": "code",
   "execution_count": null,
   "metadata": {},
   "outputs": [],
   "source": [
    "\n",
    "numbers = [1,2,3,4,5]\n",
    "double = [number * 2 for number in numbers]\n",
    "print(double)"
   ]
  },
  {
   "cell_type": "markdown",
   "metadata": {},
   "source": [
    "> **In all languages** you can do a loop like this:"
   ]
  },
  {
   "cell_type": "code",
   "execution_count": null,
   "metadata": {},
   "outputs": [],
   "source": [
    "numbers = [1,2,3,4,5]\n",
    "for number in numbers:\n",
    "    print(number * 2)"
   ]
  },
  {
   "cell_type": "markdown",
   "metadata": {},
   "source": [
    "### Your challenge\n",
    "\n",
    "> **Can you get the test to pass?**\n",
    "\n",
    "Think about which type of `for` loop you need - the python super-power or the every-language one"
   ]
  },
  {
   "cell_type": "code",
   "execution_count": null,
   "metadata": {},
   "outputs": [],
   "source": [
    "%%ipytest\n",
    "\n",
    "def speed_in_mph(speeds: list[int]) -> list[int]:\n",
    "    kph_to_mph = 0.621371\n",
    "    return [round(speed * kph_to_mph) for speed in speeds]\n",
    "\n",
    "def test_bugatti():\n",
    "    kph = [420, 408]\n",
    "    mph = speed_in_mph(kph)\n",
    "    assert mph == [261, 254]\n",
    "    "
   ]
  }
 ],
 "metadata": {
  "kernelspec": {
   "display_name": ".venv",
   "language": "python",
   "name": "python3"
  },
  "language_info": {
   "codemirror_mode": {
    "name": "ipython",
    "version": 3
   },
   "file_extension": ".py",
   "mimetype": "text/x-python",
   "name": "python",
   "nbconvert_exporter": "python",
   "pygments_lexer": "ipython3",
   "version": "3.13.2"
  }
 },
 "nbformat": 4,
 "nbformat_minor": 2
}
