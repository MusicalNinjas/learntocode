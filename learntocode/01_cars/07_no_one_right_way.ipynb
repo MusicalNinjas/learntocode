{
 "cells": [
  {
   "cell_type": "markdown",
   "id": "0",
   "metadata": {},
   "source": [
    "# There is no **\"one right way\"** to code something\n",
    "\n",
    "People have lots of opinions about \"the right way\" to code ... but they are usually just opinions.\n",
    "\n",
    "I think the most important thing about coding is to remember:\n",
    "\n",
    "```text\n",
    "\n",
    "\n",
    "=========================================================================================\n",
    "> A computer can understand code written in lots of different ways ...\n",
    ">\n",
    "> Future-you also has to read your code ... **make it easy for future-you to understand**\n",
    "=========================================================================================\n",
    "\n",
    "\n",
    "```"
   ]
  },
  {
   "cell_type": "markdown",
   "id": "1",
   "metadata": {},
   "source": [
    "### You could have written the speed camera challenge like this:"
   ]
  },
  {
   "cell_type": "code",
   "execution_count": null,
   "id": "2",
   "metadata": {},
   "outputs": [],
   "source": [
    "%%ipytest\n",
    "\n",
    "def chspcam(a, b):\n",
    "    return [\"OK\" if round(c / (0.61666666 if b == \"mph\" else 1)) < 121 else \"NAUGHTY\" for c in a]\n",
    "\n",
    "def test_1():\n",
    "    x = [1,119,120,121,200]\n",
    "    assert chspcam(x, \"kph\") == [\"OK\",\"OK\",\"OK\",\"NAUGHTY\",\"NAUGHTY\"]\n",
    "\n",
    "def test_2():\n",
    "    y = [1,74, 75, 76]\n",
    "    assert chspcam(y, \"mph\") == [\"OK\",\"OK\",\"NAUGHTY\",\"NAUGHTY\"]\n"
   ]
  },
  {
   "cell_type": "markdown",
   "id": "3",
   "metadata": {},
   "source": [
    "... but that took me about 5 attempts to get right and was really hard!\n",
    "\n",
    "### or like any of this ..."
   ]
  },
  {
   "cell_type": "code",
   "execution_count": null,
   "id": "4",
   "metadata": {},
   "outputs": [],
   "source": [
    "%%ipytest\n",
    "\n",
    "def swiss_speedcamera(speeds: list[int], units: str) -> str:\n",
    "    if units == \"kph\":\n",
    "        speedlimit = 120\n",
    "    elif units == \"mph\":\n",
    "        speedlimit = 74\n",
    "    else:\n",
    "        error_message = \"I don't understand speeds in {units}\"\n",
    "        raise ValueError(error_message)\n",
    "    \n",
    "    return [\"NAUGHTY\" if speed > speedlimit else \"OK\" for speed in speeds]\n",
    "    \n",
    "\n",
    "def test_speedcamera_list():\n",
    "    speeds = [1,119,120,121,200]\n",
    "    assert swiss_speedcamera(speeds, \"kph\") == [\"OK\",\"OK\",\"OK\",\"NAUGHTY\",\"NAUGHTY\"]\n",
    "\n",
    "def test_speedcamera_mph():\n",
    "    speeds = [1,74, 75, 76]\n",
    "    assert swiss_speedcamera(speeds, \"mph\") == [\"OK\",\"OK\",\"NAUGHTY\",\"NAUGHTY\"]"
   ]
  },
  {
   "cell_type": "markdown",
   "id": "5",
   "metadata": {},
   "source": [
    "### or this ..."
   ]
  },
  {
   "cell_type": "code",
   "execution_count": null,
   "id": "6",
   "metadata": {},
   "outputs": [],
   "source": [
    "%%ipytest\n",
    "\n",
    "def swiss_speedcamera(speeds: list[int], units: str) -> str:\n",
    "    match units:\n",
    "        case \"kph\":\n",
    "            speedlimit = 120\n",
    "        case \"mph\":\n",
    "            speedlimit = 74\n",
    "        case _:\n",
    "            error_message = \"I don't understand speeds in {units}\"\n",
    "            raise ValueError(error_message)\n",
    "    \n",
    "    return [\"NAUGHTY\" if speed > speedlimit else \"OK\" for speed in speeds]\n",
    "    \n",
    "\n",
    "def test_speedcamera_list():\n",
    "    speeds = [1,119,120,121,200]\n",
    "    assert swiss_speedcamera(speeds, \"kph\") == [\"OK\",\"OK\",\"OK\",\"NAUGHTY\",\"NAUGHTY\"]\n",
    "\n",
    "def test_speedcamera_mph():\n",
    "    speeds = [1,74, 75, 76]\n",
    "    assert swiss_speedcamera(speeds, \"mph\") == [\"OK\",\"OK\",\"NAUGHTY\",\"NAUGHTY\"]"
   ]
  },
  {
   "cell_type": "markdown",
   "id": "7",
   "metadata": {},
   "source": [
    "### or any of these ..."
   ]
  },
  {
   "cell_type": "code",
   "execution_count": null,
   "id": "8",
   "metadata": {},
   "outputs": [],
   "source": [
    "%%ipytest\n",
    "\n",
    "def swiss_speedcamera(speeds: list[int], units: str) -> str:\n",
    "    if units == \"mph\":\n",
    "        kph_speeds = []\n",
    "        for mph_speed in speeds:\n",
    "            kph_speed = round(mph_speed * 1.621621621)\n",
    "            kph_speeds.append(kph_speed)\n",
    "    else:\n",
    "        kph_speeds = speeds\n",
    "    \n",
    "    answers = []\n",
    "    for kph_speed in kph_speeds:\n",
    "        if kph_speed > 120:  # noqa: SIM108\n",
    "            answer = \"NAUGHTY\"\n",
    "        else:\n",
    "            answer = \"OK\"\n",
    "        answers.append(answer)\n",
    "    \n",
    "    return answers\n",
    "    \n",
    "\n",
    "def test_speedcamera_list():\n",
    "    speeds = [1,119,120,121,200]\n",
    "    assert swiss_speedcamera(speeds, \"kph\") == [\"OK\",\"OK\",\"OK\",\"NAUGHTY\",\"NAUGHTY\"]\n",
    "\n",
    "def test_speedcamera_mph():\n",
    "    speeds = [1,74, 75, 76]\n",
    "    assert swiss_speedcamera(speeds, \"mph\") == [\"OK\",\"OK\",\"NAUGHTY\",\"NAUGHTY\"]"
   ]
  },
  {
   "cell_type": "code",
   "execution_count": null,
   "id": "9",
   "metadata": {},
   "outputs": [],
   "source": [
    "%%ipytest\n",
    "\n",
    "def swiss_speedcamera(speeds: list[int], units: str) -> str:\n",
    "    conversion_factor = {\n",
    "        \"kph\": 1,\n",
    "        \"mph\": 1.621621621,\n",
    "    }\n",
    "\n",
    "    def to_kph(speed: int) -> int:\n",
    "        return round(speed * conversion_factor[units])\n",
    "    \n",
    "    def too_fast(speed:int) -> bool:\n",
    "        return to_kph(speed) <= 120\n",
    "\n",
    "    return [\"OK\" if too_fast(speed) else \"NAUGHTY\" for speed in speeds]\n",
    "\n",
    "\n",
    "def test_speedcamera_list():\n",
    "    speeds = [1,119,120,121,200]\n",
    "    assert swiss_speedcamera(speeds, \"kph\") == [\"OK\",\"OK\",\"OK\",\"NAUGHTY\",\"NAUGHTY\"]\n",
    "\n",
    "def test_speedcamera_mph():\n",
    "    speeds = [1,74, 75, 76]\n",
    "    assert swiss_speedcamera(speeds, \"mph\") == [\"OK\",\"OK\",\"NAUGHTY\",\"NAUGHTY\"]"
   ]
  },
  {
   "cell_type": "markdown",
   "id": "10",
   "metadata": {},
   "source": [
    "**What do you like best?**\n",
    "\n",
    "> **TRY** to think of some other ways to do the international speed `camera` ...\n",
    "\n",
    "1. make a new cell for each one\n",
    "1. don't forget to put `%%ipytest` at the start of each cell, so your tests run!"
   ]
  }
 ],
 "metadata": {
  "kernelspec": {
   "display_name": ".venv",
   "language": "python",
   "name": "python3"
  },
  "language_info": {
   "codemirror_mode": {
    "name": "ipython",
    "version": 3
   },
   "file_extension": ".py",
   "mimetype": "text/x-python",
   "name": "python",
   "nbconvert_exporter": "python",
   "pygments_lexer": "ipython3",
   "version": "3.13.1"
  }
 },
 "nbformat": 4,
 "nbformat_minor": 5
}
