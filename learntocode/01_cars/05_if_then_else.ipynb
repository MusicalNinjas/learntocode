{
 "cells": [
  {
   "cell_type": "markdown",
   "metadata": {},
   "source": [
    "# `if` too fast `then` naughty `else` OK\n",
    "\n",
    "You can make something happen `if` something is `True` and do something `else` if it's not\n",
    "\n",
    "> In python you need to **use a `:`** at the end of the line and **indent** the things to do with a `tab`. Like this:\n",
    "\n",
    "```python\n",
    "if something is True:\n",
    "  do_thing()\n",
    "else:\n",
    "  do_other_thing()\n",
    "```"
   ]
  },
  {
   "cell_type": "code",
   "execution_count": null,
   "metadata": {},
   "outputs": [],
   "source": [
    "%%ipytest\n",
    "\n",
    "def speedcamera(speed: int) -> str:\n",
    "    \"\"\"\n",
    "    Swiss motorway speed limit is 120.\n",
    "    \n",
    "    If the `speed` is > 120 return \"NAUGHTY\"\n",
    "    else return \"OK\"\n",
    "    \"\"\"\n",
    "    if speed > 120:\n",
    "        return \"NAUGHTY\"\n",
    "    else:\n",
    "        return \"OK\"\n",
    "\n",
    "def test_speedcamera_ok():\n",
    "    assert speedcamera(120) == \"OK\"\n",
    "\n",
    "def test_speedcamera_120():\n",
    "    assert speedcamera(120) == \"OK\"\n",
    "\n",
    "def test_speedcamera_fast():\n",
    "    assert speedcamera(121) == \"NAUGHTY\""
   ]
  }
 ],
 "metadata": {
  "kernelspec": {
   "display_name": ".venv",
   "language": "python",
   "name": "python3"
  },
  "language_info": {
   "codemirror_mode": {
    "name": "ipython",
    "version": 3
   },
   "file_extension": ".py",
   "mimetype": "text/x-python",
   "name": "python",
   "nbconvert_exporter": "python",
   "pygments_lexer": "ipython3",
   "version": "3.13.2"
  }
 },
 "nbformat": 4,
 "nbformat_minor": 2
}
