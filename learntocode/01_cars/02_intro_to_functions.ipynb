{
 "cells": [
  {
   "cell_type": "markdown",
   "metadata": {},
   "source": [
    "# That's great but wouldn't it be good if Grandma & Grandad also understood how fast the car was?\n",
    "\n",
    "## \"Functions\" are made-up Verbs = actions\n",
    "\n",
    "- You can call stuff *almost* anything you like - but it must look like `one_word` not *two words*.\n",
    "- Functions need to be `def`ined before you can use them\n",
    "\n",
    "Below, I've made a test and a function to change the speed to mp/h.\n",
    "\n",
    "> **TRY THIS**\n",
    "\n",
    "1. Press `|>` play\n",
    "1. Look to the `<- left` and find the `TEST EXPLORER` - run the test there too"
   ]
  },
  {
   "cell_type": "code",
   "execution_count": null,
   "metadata": {},
   "outputs": [],
   "source": [
    "%%ipytest\n",
    "\n",
    "def speed_in_mph(speed_in_kph: int) -> int:\n",
    "    \"\"\"Takes speed in kph and returns speed in mph.\"\"\"\n",
    "    return round(speed_in_kph * 0.621371)\n",
    "\n",
    "def test_chiron(): \n",
    "    assert speed_in_mph(speed_in_kph=420) == 261\n",
    "\n",
    "def test_veyron():\n",
    "    assert speed_in_mph(speed_in_kph=408) == 254"
   ]
  },
  {
   "cell_type": "markdown",
   "metadata": {},
   "source": [
    "> ### Challenge - Can you get both tests to work?\n",
    "\n",
    "- You might need some help from google or github copilot (There's a little `:)` at the top of the screen) ...\n",
    "- The squiggly yellow line might give you an idea too ..."
   ]
  }
 ],
 "metadata": {
  "kernelspec": {
   "display_name": ".venv",
   "language": "python",
   "name": "python3"
  },
  "language_info": {
   "codemirror_mode": {
    "name": "ipython",
    "version": 3
   },
   "file_extension": ".py",
   "mimetype": "text/x-python",
   "name": "python",
   "nbconvert_exporter": "python",
   "pygments_lexer": "ipython3",
   "version": "3.13.2"
  }
 },
 "nbformat": 4,
 "nbformat_minor": 2
}
