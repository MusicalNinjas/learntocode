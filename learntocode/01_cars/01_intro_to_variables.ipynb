{
 "cells": [
  {
   "cell_type": "markdown",
   "metadata": {},
   "source": [
    "# Coding Cars\n",
    "\n",
    "When coding you can make up your own language to tell the computer what to do ...\n",
    "\n",
    "## \"Variables\" are made-up Nouns = Things\n",
    "\n",
    "You can call stuff *almost* anything you like - but it must look like `one_word` not *two words*\n",
    "\n",
    "> **TRY THIS** go to the `# Put your code in here ...` cell underneath this and type in:\n",
    "```python\n",
    "# Put your code in here ...\n",
    "car = \"Bugatti Chiron\"\n",
    "topspeed = 420\n",
    "\n",
    "print(car)\n",
    "print(topspeed)\n",
    "```\n",
    "\n",
    "and press the play button ..."
   ]
  },
  {
   "cell_type": "code",
   "execution_count": null,
   "metadata": {},
   "outputs": [],
   "source": [
    "# Put your code in here ..."
   ]
  },
  {
   "cell_type": "markdown",
   "metadata": {},
   "source": [
    "### How it works\n",
    "\n",
    "1. You made up new nouns (`variables`) called `car` and `topspeed` and tell the computer what they are:\n",
    "    - `car` is a `str`ing of letters (Non-coders would call this \"some words\") - so `\"Bugatti Chiron\"`needs to go in quotes - like when someone is saying things in a book.\n",
    "      > (*Fun tip* - try getting rid of the `\"` quotes and see what happens!!)\n",
    "    - `topspeed` is a number - so no need for quotes\n",
    "1. Then you told the computer what to do `print` them:\n",
    "    - because the computer needs to be *really* sure what it should `print` you put the information in `(`brackets`)` - like when you want to be really clear about things in maths"
   ]
  },
  {
   "cell_type": "markdown",
   "metadata": {},
   "source": [
    "> **Now try this**\n",
    "\n",
    "add:\n",
    "\n",
    "```python\n",
    "print(f\"The top speed of the {car} is {topspeed} km/h\")\n",
    "```\n",
    "\n",
    "and press the play button again"
   ]
  }
 ],
 "metadata": {
  "kernelspec": {
   "display_name": ".venv",
   "language": "python",
   "name": "python3"
  },
  "language_info": {
   "codemirror_mode": {
    "name": "ipython",
    "version": 3
   },
   "file_extension": ".py",
   "mimetype": "text/x-python",
   "name": "python",
   "nbconvert_exporter": "python",
   "pygments_lexer": "ipython3",
   "version": "3.13.1"
  }
 },
 "nbformat": 4,
 "nbformat_minor": 2
}
