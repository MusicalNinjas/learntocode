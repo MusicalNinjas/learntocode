{
 "cells": [
  {
   "cell_type": "markdown",
   "id": "0",
   "metadata": {},
   "source": [
    "# Creating your own types of things\n",
    "\n",
    "(the last bit before we start coding the game)\n",
    "\n",
    "## A `class` is a *type of thing* that *knows information* about it`Self` and *can do stuff*\n",
    "\n",
    "- The information are called `properties` - they are a special type of [`variable`](01_intro_to_variables.ipynb)\n",
    "- The stuff it can do are called `method`s - they are a special type of [`function`](02_intro_to_functions.ipynb)\n",
    "\n",
    "Here's an example:"
   ]
  },
  {
   "cell_type": "code",
   "execution_count": null,
   "id": "1",
   "metadata": {},
   "outputs": [],
   "source": [
    "class Car:\n",
    "\n",
    "    top_speed: int\n",
    "    \"\"\"Top speed in km/h\"\"\"\n",
    "\n",
    "    def __init__(self, top_speed: int):\n",
    "        self.top_speed = top_speed\n",
    "    def __add__(self, other):\n",
    "        return Car(top_speed=self.top_speed + other.top_speed)\n",
    "p speed.\"\"\"\n",
    "        return hours * self.top_speed\n",
    "    \n",
    "chiron = Car(top_speed=420)\n",
    "chiron.drive(hours=2)"
   ]
  },
  {
   "cell_type": "markdown",
   "id": "2",
   "metadata": {},
   "source": [
    "### How does it work?\n",
    "\n",
    "1. First we need to tell python this is a class and give it a name (for the type of thing)\n",
    "    ```python\n",
    "    class Car:\n",
    "    ```\n",
    "1. Then we can make some notes for ourselves about the properties (if we want to)\n",
    "    ```python\n",
    "        top_speed: int\n",
    "        \"\"\"Top speed in km/h\"\"\"\n",
    "    ```\n",
    "1. Next you need to say how to `init`ialise a new car ...\n",
    "    > 1. the method is called `__init__` - there are all kinds of special names surrounded by a double underline `__` that do magic stuff in python. They are called \"magic methods\" or \"dunder methods\"\n",
    "    > 1. the first argument is always `self` - meaning \"myself\"\n",
    "    > 1. then you let the person give a top_speed and store it in your`self`\n",
    "    ```python\n",
    "        def __init__(self, top_speed: int):\n",
    "            self.top_speed = top_speed\n",
    "    ```\n",
    "1. Then you can make your own methods:\n",
    "    > 1. Again, the first argument must be `self`\n",
    "    > 1. and you can get information about your`self` if you need it\n",
    "    ```python\n",
    "        def drive(self, hours: float) -> float:\n",
    "            \"\"\"How far (km) it goes in `hours` at top speed.\"\"\"\n",
    "            return hours * self.top_speed\n",
    "    ```\n",
    "1. You can have to make an individual `Car` and give this specific one a name:\n",
    "    ```python\n",
    "    chiron = Car(top_speed=420)\n",
    "    ```\n",
    "1. So you can drive it\n",
    "    ```python\n",
    "    chiron.drive(hours=2)\n",
    "    ```\n"
   ]
  },
  {
   "cell_type": "markdown",
   "id": "3",
   "metadata": {},
   "source": [
    "## Your turn ...\n",
    "\n",
    "Why don't you have a go at making a SpeedCamera?\n",
    "\n",
    "**Make the first test pass, then worry about the other ones**\n",
    "\n",
    "> **Hint:** You probably want to start with:\n",
    ">\n",
    "> ```python\n",
    "> class SpeedCamera:\n",
    "> \n",
    ">     speedlimit: int\n",
    ">     \"\"\"Speed limit in km/h\"\"\"\n",
    ">\n",
    ">     def __init__(self, speedlimit: int):"
   ]
  },
  {
   "cell_type": "code",
   "execution_count": null,
   "id": "4",
   "metadata": {},
   "outputs": [],
   "source": [
    "%%ipytest\n",
    "class SpeedCamera:\n",
    "    speedlimit: int\n",
    "\n",
    "    def __init__(self, speedlimit: int):\n",
    "        self.speedlimit = speedlimit\n",
    "        \n",
    "    def flashes(self, speed: int):\n",
    "        return speed > self.speedlimit\n",
    "        \n",
    "\n",
    "\n",
    "def test_swisscamera():\n",
    "    swisscamera = SpeedCamera(speedlimit=120)\n",
    "    assert swisscamera.speedlimit == 120\n",
    "\n",
    "def test_swisscamera_toofast():\n",
    "    swisscamera = SpeedCamera(speedlimit=120)\n",
    "    assert swisscamera.flashes(121)\n",
    "\n",
    "def test_swisscamera_ok():\n",
    "    swisscamera = SpeedCamera(speedlimit=120)\n",
    "    assert not swisscamera.flashes(120)"
   ]
  }
 ],
 "metadata": {
  "kernelspec": {
   "display_name": ".venv",
   "language": "python",
   "name": "python3"
  },
  "language_info": {
   "codemirror_mode": {
    "name": "ipython",
    "version": 3
   },
   "file_extension": ".py",
   "mimetype": "text/x-python",
   "name": "python",
   "nbconvert_exporter": "python",
   "pygments_lexer": "ipython3",
   "version": "3.13.2"
  }
 },
 "nbformat": 4,
 "nbformat_minor": 5
}
