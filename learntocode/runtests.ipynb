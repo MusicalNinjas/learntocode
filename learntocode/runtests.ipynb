{
 "cells": [
  {
   "cell_type": "code",
   "execution_count": null,
   "metadata": {},
   "outputs": [],
   "source": [
    "from pathlib import Path\n",
    "\n",
    "import ipytest\n",
    "from IPython import get_ipython  # noqa: A004\n",
    "\n",
    "cwd = Path().absolute()\n",
    "for file in cwd.iterdir():\n",
    "    if file.is_file() and file.suffix == \".ipynb\" and \"import ipytest\" not in file.read_text():\n",
    "        ipytest.clean()\n",
    "        display(f\"pre-executing: {file}\")\n",
    "        get_ipython().run_line_magic(\"run\", str(file))\n",
    "        ipytest.autoconfig(addopts=[\"-v\"])\n",
    "        # ipytest.autoconfig(raise_on_error=True)\n",
    "        exitcode = ipytest.run()\n",
    "        display(exitcode)\n"
   ]
  }
 ],
 "metadata": {
  "kernelspec": {
   "display_name": ".venv",
   "language": "python",
   "name": "python3"
  },
  "language_info": {
   "codemirror_mode": {
    "name": "ipython",
    "version": 3
   },
   "file_extension": ".py",
   "mimetype": "text/x-python",
   "name": "python",
   "nbconvert_exporter": "python",
   "pygments_lexer": "ipython3",
   "version": "3.13.1"
  }
 },
 "nbformat": 4,
 "nbformat_minor": 2
}
